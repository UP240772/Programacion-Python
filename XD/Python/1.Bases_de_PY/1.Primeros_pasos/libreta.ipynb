{
 "cells": [
  {
   "cell_type": "markdown",
   "metadata": {},
   "source": [
    "dentro de este apunte aprenderemos como escribir codigo y mostrar mensajes en la consola de python, es decir, un Hola mundo.\n",
    "\n",
    "mediante la funcion print podemos escribir mensajes en consola,\n",
    "y se declara de la siguiente manera"
   ]
  },
  {
   "cell_type": "code",
   "execution_count": 4,
   "metadata": {},
   "outputs": [
    {
     "name": "stdout",
     "output_type": "stream",
     "text": [
      "Hola mundo \n"
     ]
    }
   ],
   "source": [
    "#declaracion de un print\n",
    "print('Hola mundo ')"
   ]
  }
 ],
 "metadata": {
  "kernelspec": {
   "display_name": "Python 3",
   "language": "python",
   "name": "python3"
  },
  "language_info": {
   "codemirror_mode": {
    "name": "ipython",
    "version": 3
   },
   "file_extension": ".py",
   "mimetype": "text/x-python",
   "name": "python",
   "nbconvert_exporter": "python",
   "pygments_lexer": "ipython3",
   "version": "3.9.2"
  },
  "orig_nbformat": 4
 },
 "nbformat": 4,
 "nbformat_minor": 2
}
